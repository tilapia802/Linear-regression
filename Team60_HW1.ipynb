{
 "cells": [
  {
   "cell_type": "code",
   "execution_count": 5,
   "metadata": {},
   "outputs": [
    {
     "name": "stdout",
     "output_type": "stream",
     "text": [
      "1902\n",
      "(16674, 9)\n"
     ]
    }
   ],
   "source": [
    "import tensorflow as tf\n",
    "import numpy as np \n",
    "from sklearn.datasets import fetch_california_housing\n",
    "from sklearn.linear_model import LinearRegression\n",
    "from IPython.display import clear_output, Image, display, HTML\n",
    "\n",
    "###### Do not modify here ###### \n",
    "def strip_consts(graph_def, max_const_size=32):\n",
    "    \"\"\"Strip large constant values from graph_def.\"\"\"\n",
    "    strip_def = tf.GraphDef()\n",
    "    for n0 in graph_def.node:\n",
    "        n = strip_def.node.add() \n",
    "        n.MergeFrom(n0)\n",
    "        if n.op == 'Const':\n",
    "            tensor = n.attr['value'].tensor\n",
    "            size = len(tensor.tensor_content)\n",
    "            if size > max_const_size:\n",
    "                tensor.tensor_content = \"<stripped %d bytes>\"%size\n",
    "    return strip_def\n",
    "\n",
    "def show_graph(graph_def, max_const_size=32):\n",
    "    \"\"\"Visualize TensorFlow graph.\"\"\"\n",
    "    if hasattr(graph_def, 'as_graph_def'):\n",
    "        graph_def = graph_def.as_graph_def()\n",
    "    strip_def = graph_def\n",
    "    #strip_def = strip_consts(graph_def, max_const_size=max_const_size)\n",
    "    code = \"\"\"\n",
    "        <script>\n",
    "          function load() {{\n",
    "            document.getElementById(\"{id}\").pbtxt = {data};\n",
    "          }}\n",
    "        </script>\n",
    "        <link rel=\"import\" href=\"https://tensorboard.appspot.com/tf-graph-basic.build.html\" onload=load()>\n",
    "        <div style=\"height:600px\">\n",
    "          <tf-graph-basic id=\"{id}\"></tf-graph-basic>\n",
    "        </div>\n",
    "    \"\"\".format(data=repr(str(strip_def)), id='graph'+str(np.random.rand()))\n",
    "\n",
    "    iframe = \"\"\"\n",
    "        <iframe seamless style=\"width:1200px;height:620px;border:0\" srcdoc=\"{}\"></iframe>\n",
    "    \"\"\".format(code.replace('\"', '&quot;'))\n",
    "    display(HTML(iframe))\n",
    "    \n",
    "\n",
    "###### Do not modify  here ######\n",
    "\n",
    "###### Implement Data Preprocess here ######\n",
    "\n",
    "# We use python scikit learn LocalOutlierFactor to find the \n",
    "# outlier of training data and remove it. (Can reduce error rate)\n",
    "def remove_outlier(X,Y):\n",
    "    # remove outliers\n",
    "    from sklearn.neighbors import LocalOutlierFactor\n",
    "    from sklearn import svm\n",
    "    outliers_fraction = 0.25\n",
    "    clf = LocalOutlierFactor(\n",
    "            n_neighbors= 85,\n",
    "            contamination=outliers_fraction)\n",
    "    y_pred = clf.fit_predict(X)\n",
    "    scores_pred = clf.negative_outlier_factor_\n",
    "    index = np.argsort(scores_pred)[:int(len(scores_pred)*0.1)] \n",
    "\n",
    "    Xnew = []\n",
    "    Ynew = []\n",
    "    for i in range(len(X)):\n",
    "        if not i in index: \n",
    "            Xnew.append(X[i])\n",
    "            Ynew.append(Y[i])\n",
    "\n",
    "    return np.array(Xnew), np.array(Ynew).reshape(-1,1)\n",
    "\n",
    "housing = fetch_california_housing()\n",
    "m, n = housing.data.shape\n",
    "\n",
    "# Add bias\n",
    "housing.data = np.c_[housing.data,np.ones([m,1])]\n",
    "\n",
    "# 90% for training and 10 % for testing\n",
    "housing_data_training = housing.data[0:18576]\n",
    "housing_data_testing = housing.data[18576:]\n",
    "\n",
    "housing_label_training = housing.target[0:18576].reshape(18576,1)\n",
    "housing_label_testing = housing.target[18576:]\n",
    "housing_label_testing = housing_label_testing.reshape(housing_label_testing.shape[0],1)\n",
    "\n",
    "# Use mean +- 1.5 * Standard Deviation to find the outlier of training data.\n",
    "top = np.mean(housing_label_training[:,0]) + 1.5 * np.std(housing_label_training[:,0])\n",
    "buttom = np.mean(housing_label_training[:,0]) - 1.5 * np.std(housing_label_training[:,0])\n",
    "    \n",
    "index = []\n",
    "for i in range(0,18576):\n",
    "    if housing_label_training[i,0] < buttom or housing_label_training[i,0] > top:\n",
    "        index.append(i)\n",
    "print (len(index)) \n",
    "\n",
    "# Remove the oulier of training data. (Can reduce error rate.)\n",
    "for i in range(len(index)-1,-1,-1):\n",
    "    housing_data_training = np.delete(housing_data_training, (index[i]), axis=0)\n",
    "    housing_label_training = np.delete(housing_label_training, (index[i]), axis=0)\n",
    "print(housing_data_training.shape)\n"
   ]
  },
  {
   "cell_type": "code",
   "execution_count": 6,
   "metadata": {},
   "outputs": [],
   "source": [
    "housing_data_training,housing_label_training = remove_outlier(housing_data_training,housing_label_training)\n"
   ]
  },
  {
   "cell_type": "code",
   "execution_count": 7,
   "metadata": {},
   "outputs": [],
   "source": [
    "weight = tf.matmul(tf.matmul(tf.matrix_inverse(tf.matmul(tf.transpose(housing_data_training), housing_data_training)), tf.transpose(housing_data_training)), housing_label_training)\n",
    "###### Implement Data Preprocess here ######\n"
   ]
  },
  {
   "cell_type": "code",
   "execution_count": 8,
   "metadata": {
    "scrolled": true
   },
   "outputs": [
    {
     "name": "stdout",
     "output_type": "stream",
     "text": [
      "[[ 1.85783562]\n",
      " [ 1.68001537]\n",
      " [ 1.9676785 ]\n",
      " ..., \n",
      " [ 0.29953641]\n",
      " [ 0.4296291 ]\n",
      " [ 0.62960537]]\n",
      "[[ 1.214]\n",
      " [ 1.904]\n",
      " [ 1.843]\n",
      " ..., \n",
      " [ 0.923]\n",
      " [ 0.847]\n",
      " [ 0.894]]\n",
      "0.299478426591\n"
     ]
    }
   ],
   "source": [
    "###### Start TF session ######\n",
    "with tf.Session() as sess:\n",
    "    sess.run(tf.global_variables_initializer())\n",
    "    predict = tf.matmul(housing_data_testing,weight)\n",
    "    print (predict.eval())\n",
    "    print (housing_label_testing)\n",
    "    error_rate = tf.reduce_mean(tf.div(tf.abs(tf.subtract(housing_label_testing, predict)), housing_label_testing))\n",
    "    print (error_rate.eval())\n",
    "    show_graph(tf.get_default_graph().as_graph_def())\n",
    "###### Start TF session ######\n",
    "###### Meaning of graph ######\n",
    "#The graph shows the execution flow of tensorflow, the buttom of the graph shows the calculation of \n",
    "#weight formulation: tf.matmul(tf.matmul(tf.matrix_inverse(tf.matmul(tf.transpose(housing_data_training), housing_data_training)), tf.transpose(housing_data_training)), housing_label_training)\n",
    "#So you can see transpose, Matmul, MatricInverse operation that can be found in the formula.\n",
    "#MatMul[1-3]means three MatMul function execution(1 and 2 is for calculating weight, 3 is for calculating predict value). \n",
    "#After MatMul[1-3], it shows the calculation of error_rate, which is:\n",
    "#tf.reduce_mean(tf.div(tf.abs(tf.subtract(housing_label_testing, predict)), housing_label_testing))\n",
    "#So you can see Sub, Abs, Div, Mean in the graph.\n",
    "###### Meaning of graph ######"
   ]
  },
  {
   "cell_type": "code",
   "execution_count": null,
   "metadata": {},
   "outputs": [],
   "source": []
  },
  {
   "cell_type": "code",
   "execution_count": null,
   "metadata": {},
   "outputs": [],
   "source": []
  }
 ],
 "metadata": {
  "kernelspec": {
   "display_name": "Python 3",
   "language": "python",
   "name": "python3"
  },
  "language_info": {
   "codemirror_mode": {
    "name": "ipython",
    "version": 3
   },
   "file_extension": ".py",
   "mimetype": "text/x-python",
   "name": "python",
   "nbconvert_exporter": "python",
   "pygments_lexer": "ipython3",
   "version": "3.4.5"
  }
 },
 "nbformat": 4,
 "nbformat_minor": 2
}
